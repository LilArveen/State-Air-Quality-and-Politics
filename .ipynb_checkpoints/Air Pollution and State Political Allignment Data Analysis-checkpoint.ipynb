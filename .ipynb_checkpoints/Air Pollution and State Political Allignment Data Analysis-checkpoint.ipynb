{
 "cells": [
  {
   "cell_type": "code",
   "execution_count": 1,
   "metadata": {},
   "outputs": [],
   "source": [
    "%matplotlib inline\n",
    "\n",
    "import numpy as np\n",
    "import pandas as pd\n",
    "\n",
    "import matplotlib.pyplot as plt\n",
    "import plotly.plotly as py\n",
    "import seaborn as sns\n",
    "import patsy\n",
    "\n",
    "import requests\n",
    "import bs4\n",
    "from bs4 import BeautifulSoup"
   ]
  },
  {
   "cell_type": "code",
   "execution_count": 2,
   "metadata": {},
   "outputs": [],
   "source": [
    "airData = pd.read_csv(\"annual_aqi_by_county_2017.csv\")"
   ]
  },
  {
   "cell_type": "code",
   "execution_count": 3,
   "metadata": {},
   "outputs": [],
   "source": [
    "from IPython.display import HTML\n",
    "from IPython.display import display\n",
    "\n",
    "import plotly\n"
   ]
  },
  {
   "cell_type": "code",
   "execution_count": 4,
   "metadata": {
    "tags": [
     "remove_cell"
    ]
   },
   "outputs": [],
   "source": [
    "plotly.tools.set_credentials_file(username='LilArveen', api_key='KbGcu7YS02M71TS8ZQxk')"
   ]
  },
  {
   "cell_type": "markdown",
   "metadata": {},
   "source": [
    "Retrieving plotly username and api key credentials."
   ]
  },
  {
   "cell_type": "markdown",
   "metadata": {},
   "source": [
    "## Cleaning/Getting Data"
   ]
  },
  {
   "cell_type": "markdown",
   "metadata": {},
   "source": [
    "Look at average for each state"
   ]
  },
  {
   "cell_type": "code",
   "execution_count": 5,
   "metadata": {},
   "outputs": [
    {
     "data": {
      "text/html": [
       "<div>\n",
       "<style>\n",
       "    .dataframe thead tr:only-child th {\n",
       "        text-align: right;\n",
       "    }\n",
       "\n",
       "    .dataframe thead th {\n",
       "        text-align: left;\n",
       "    }\n",
       "\n",
       "    .dataframe tbody tr th {\n",
       "        vertical-align: top;\n",
       "    }\n",
       "</style>\n",
       "<table border=\"1\" class=\"dataframe\">\n",
       "  <thead>\n",
       "    <tr style=\"text-align: right;\">\n",
       "      <th></th>\n",
       "      <th>State</th>\n",
       "      <th>Year</th>\n",
       "      <th>Days with AQI</th>\n",
       "      <th>Good Days</th>\n",
       "      <th>Moderate Days</th>\n",
       "      <th>Unhealthy for Sensitive Groups Days</th>\n",
       "      <th>Unhealthy Days</th>\n",
       "      <th>Very Unhealthy Days</th>\n",
       "      <th>Hazardous Days</th>\n",
       "      <th>Max AQI</th>\n",
       "      <th>90th Percentile AQI</th>\n",
       "      <th>Median AQI</th>\n",
       "      <th>Days CO</th>\n",
       "      <th>Days NO2</th>\n",
       "      <th>Days Ozone</th>\n",
       "      <th>Days SO2</th>\n",
       "      <th>Days PM2.5</th>\n",
       "      <th>Days PM10</th>\n",
       "    </tr>\n",
       "  </thead>\n",
       "  <tbody>\n",
       "    <tr>\n",
       "      <th>0</th>\n",
       "      <td>Alabama</td>\n",
       "      <td>2017.0</td>\n",
       "      <td>289.000000</td>\n",
       "      <td>228.833333</td>\n",
       "      <td>58.888889</td>\n",
       "      <td>1.166667</td>\n",
       "      <td>0.055556</td>\n",
       "      <td>0.055556</td>\n",
       "      <td>0.000000</td>\n",
       "      <td>104.666667</td>\n",
       "      <td>54.500000</td>\n",
       "      <td>38.166667</td>\n",
       "      <td>0.000000</td>\n",
       "      <td>0.111111</td>\n",
       "      <td>153.444444</td>\n",
       "      <td>10.888889</td>\n",
       "      <td>121.500000</td>\n",
       "      <td>3.055556</td>\n",
       "    </tr>\n",
       "    <tr>\n",
       "      <th>1</th>\n",
       "      <td>Alaska</td>\n",
       "      <td>2017.0</td>\n",
       "      <td>267.714286</td>\n",
       "      <td>227.857143</td>\n",
       "      <td>32.428571</td>\n",
       "      <td>4.428571</td>\n",
       "      <td>3.000000</td>\n",
       "      <td>0.000000</td>\n",
       "      <td>0.000000</td>\n",
       "      <td>90.571429</td>\n",
       "      <td>50.714286</td>\n",
       "      <td>22.000000</td>\n",
       "      <td>0.857143</td>\n",
       "      <td>1.428571</td>\n",
       "      <td>98.571429</td>\n",
       "      <td>0.000000</td>\n",
       "      <td>141.285714</td>\n",
       "      <td>25.571429</td>\n",
       "    </tr>\n",
       "    <tr>\n",
       "      <th>2</th>\n",
       "      <td>Arizona</td>\n",
       "      <td>2017.0</td>\n",
       "      <td>360.846154</td>\n",
       "      <td>219.538462</td>\n",
       "      <td>118.153846</td>\n",
       "      <td>20.153846</td>\n",
       "      <td>2.769231</td>\n",
       "      <td>0.153846</td>\n",
       "      <td>0.076923</td>\n",
       "      <td>151.769231</td>\n",
       "      <td>74.384615</td>\n",
       "      <td>47.153846</td>\n",
       "      <td>0.000000</td>\n",
       "      <td>1.538462</td>\n",
       "      <td>193.692308</td>\n",
       "      <td>19.769231</td>\n",
       "      <td>30.769231</td>\n",
       "      <td>115.076923</td>\n",
       "    </tr>\n",
       "    <tr>\n",
       "      <th>3</th>\n",
       "      <td>Arkansas</td>\n",
       "      <td>2017.0</td>\n",
       "      <td>274.636364</td>\n",
       "      <td>226.363636</td>\n",
       "      <td>48.090909</td>\n",
       "      <td>0.181818</td>\n",
       "      <td>0.000000</td>\n",
       "      <td>0.000000</td>\n",
       "      <td>0.000000</td>\n",
       "      <td>84.090909</td>\n",
       "      <td>53.181818</td>\n",
       "      <td>37.000000</td>\n",
       "      <td>0.000000</td>\n",
       "      <td>0.818182</td>\n",
       "      <td>141.545455</td>\n",
       "      <td>0.000000</td>\n",
       "      <td>132.272727</td>\n",
       "      <td>0.000000</td>\n",
       "    </tr>\n",
       "    <tr>\n",
       "      <th>4</th>\n",
       "      <td>California</td>\n",
       "      <td>2017.0</td>\n",
       "      <td>356.037736</td>\n",
       "      <td>203.792453</td>\n",
       "      <td>118.509434</td>\n",
       "      <td>25.207547</td>\n",
       "      <td>6.962264</td>\n",
       "      <td>1.018868</td>\n",
       "      <td>0.207547</td>\n",
       "      <td>286.679245</td>\n",
       "      <td>88.566038</td>\n",
       "      <td>49.188679</td>\n",
       "      <td>0.000000</td>\n",
       "      <td>3.830189</td>\n",
       "      <td>214.056604</td>\n",
       "      <td>0.018868</td>\n",
       "      <td>120.188679</td>\n",
       "      <td>17.943396</td>\n",
       "    </tr>\n",
       "  </tbody>\n",
       "</table>\n",
       "</div>"
      ],
      "text/plain": [
       "        State    Year  Days with AQI   Good Days  Moderate Days  \\\n",
       "0     Alabama  2017.0     289.000000  228.833333      58.888889   \n",
       "1      Alaska  2017.0     267.714286  227.857143      32.428571   \n",
       "2     Arizona  2017.0     360.846154  219.538462     118.153846   \n",
       "3    Arkansas  2017.0     274.636364  226.363636      48.090909   \n",
       "4  California  2017.0     356.037736  203.792453     118.509434   \n",
       "\n",
       "   Unhealthy for Sensitive Groups Days  Unhealthy Days  Very Unhealthy Days  \\\n",
       "0                             1.166667        0.055556             0.055556   \n",
       "1                             4.428571        3.000000             0.000000   \n",
       "2                            20.153846        2.769231             0.153846   \n",
       "3                             0.181818        0.000000             0.000000   \n",
       "4                            25.207547        6.962264             1.018868   \n",
       "\n",
       "   Hazardous Days     Max AQI  90th Percentile AQI  Median AQI   Days CO  \\\n",
       "0        0.000000  104.666667            54.500000   38.166667  0.000000   \n",
       "1        0.000000   90.571429            50.714286   22.000000  0.857143   \n",
       "2        0.076923  151.769231            74.384615   47.153846  0.000000   \n",
       "3        0.000000   84.090909            53.181818   37.000000  0.000000   \n",
       "4        0.207547  286.679245            88.566038   49.188679  0.000000   \n",
       "\n",
       "   Days NO2  Days Ozone   Days SO2  Days PM2.5   Days PM10  \n",
       "0  0.111111  153.444444  10.888889  121.500000    3.055556  \n",
       "1  1.428571   98.571429   0.000000  141.285714   25.571429  \n",
       "2  1.538462  193.692308  19.769231   30.769231  115.076923  \n",
       "3  0.818182  141.545455   0.000000  132.272727    0.000000  \n",
       "4  3.830189  214.056604   0.018868  120.188679   17.943396  "
      ]
     },
     "execution_count": 5,
     "metadata": {},
     "output_type": "execute_result"
    }
   ],
   "source": [
    "avgData = airData.drop('County', axis=1)\n",
    "avgData = avgData.groupby('State', as_index=False).mean()\n",
    "avgData.head()"
   ]
  },
  {
   "cell_type": "code",
   "execution_count": 6,
   "metadata": {},
   "outputs": [
    {
     "data": {
      "text/html": [
       "<div>\n",
       "<style>\n",
       "    .dataframe thead tr:only-child th {\n",
       "        text-align: right;\n",
       "    }\n",
       "\n",
       "    .dataframe thead th {\n",
       "        text-align: left;\n",
       "    }\n",
       "\n",
       "    .dataframe tbody tr th {\n",
       "        vertical-align: top;\n",
       "    }\n",
       "</style>\n",
       "<table border=\"1\" class=\"dataframe\">\n",
       "  <thead>\n",
       "    <tr style=\"text-align: right;\">\n",
       "      <th></th>\n",
       "      <th>State</th>\n",
       "      <th>Abbreviation</th>\n",
       "    </tr>\n",
       "  </thead>\n",
       "  <tbody>\n",
       "    <tr>\n",
       "      <th>0</th>\n",
       "      <td>Alabama</td>\n",
       "      <td>AL</td>\n",
       "    </tr>\n",
       "    <tr>\n",
       "      <th>1</th>\n",
       "      <td>Alaska</td>\n",
       "      <td>AK</td>\n",
       "    </tr>\n",
       "    <tr>\n",
       "      <th>2</th>\n",
       "      <td>Arizona</td>\n",
       "      <td>AZ</td>\n",
       "    </tr>\n",
       "    <tr>\n",
       "      <th>3</th>\n",
       "      <td>Arkansas</td>\n",
       "      <td>AR</td>\n",
       "    </tr>\n",
       "    <tr>\n",
       "      <th>4</th>\n",
       "      <td>California</td>\n",
       "      <td>CA</td>\n",
       "    </tr>\n",
       "  </tbody>\n",
       "</table>\n",
       "</div>"
      ],
      "text/plain": [
       "        State Abbreviation\n",
       "0     Alabama           AL\n",
       "1      Alaska           AK\n",
       "2     Arizona           AZ\n",
       "3    Arkansas           AR\n",
       "4  California           CA"
      ]
     },
     "execution_count": 6,
     "metadata": {},
     "output_type": "execute_result"
    }
   ],
   "source": [
    "stateAbbreviations = pd.read_csv(\"https://raw.githubusercontent.com/jasonong/List-of-US-States/master/states.csv\")\n",
    "stateAbbreviations.head()"
   ]
  },
  {
   "cell_type": "code",
   "execution_count": 7,
   "metadata": {},
   "outputs": [
    {
     "data": {
      "text/html": [
       "<div>\n",
       "<style>\n",
       "    .dataframe thead tr:only-child th {\n",
       "        text-align: right;\n",
       "    }\n",
       "\n",
       "    .dataframe thead th {\n",
       "        text-align: left;\n",
       "    }\n",
       "\n",
       "    .dataframe tbody tr th {\n",
       "        vertical-align: top;\n",
       "    }\n",
       "</style>\n",
       "<table border=\"1\" class=\"dataframe\">\n",
       "  <thead>\n",
       "    <tr style=\"text-align: right;\">\n",
       "      <th></th>\n",
       "      <th>State</th>\n",
       "      <th>Abbreviation</th>\n",
       "      <th>Year</th>\n",
       "      <th>Days with AQI</th>\n",
       "      <th>Good Days</th>\n",
       "      <th>Moderate Days</th>\n",
       "      <th>Unhealthy for Sensitive Groups Days</th>\n",
       "      <th>Unhealthy Days</th>\n",
       "      <th>Very Unhealthy Days</th>\n",
       "      <th>Hazardous Days</th>\n",
       "      <th>Max AQI</th>\n",
       "      <th>90th Percentile AQI</th>\n",
       "      <th>Median AQI</th>\n",
       "      <th>Days CO</th>\n",
       "      <th>Days NO2</th>\n",
       "      <th>Days Ozone</th>\n",
       "      <th>Days SO2</th>\n",
       "      <th>Days PM2.5</th>\n",
       "      <th>Days PM10</th>\n",
       "    </tr>\n",
       "  </thead>\n",
       "  <tbody>\n",
       "    <tr>\n",
       "      <th>0</th>\n",
       "      <td>Alabama</td>\n",
       "      <td>AL</td>\n",
       "      <td>2017.0</td>\n",
       "      <td>289.000000</td>\n",
       "      <td>228.833333</td>\n",
       "      <td>58.888889</td>\n",
       "      <td>1.166667</td>\n",
       "      <td>0.055556</td>\n",
       "      <td>0.055556</td>\n",
       "      <td>0.000000</td>\n",
       "      <td>104.666667</td>\n",
       "      <td>54.500000</td>\n",
       "      <td>38.166667</td>\n",
       "      <td>0.000000</td>\n",
       "      <td>0.111111</td>\n",
       "      <td>153.444444</td>\n",
       "      <td>10.888889</td>\n",
       "      <td>121.500000</td>\n",
       "      <td>3.055556</td>\n",
       "    </tr>\n",
       "    <tr>\n",
       "      <th>1</th>\n",
       "      <td>Alaska</td>\n",
       "      <td>AK</td>\n",
       "      <td>2017.0</td>\n",
       "      <td>267.714286</td>\n",
       "      <td>227.857143</td>\n",
       "      <td>32.428571</td>\n",
       "      <td>4.428571</td>\n",
       "      <td>3.000000</td>\n",
       "      <td>0.000000</td>\n",
       "      <td>0.000000</td>\n",
       "      <td>90.571429</td>\n",
       "      <td>50.714286</td>\n",
       "      <td>22.000000</td>\n",
       "      <td>0.857143</td>\n",
       "      <td>1.428571</td>\n",
       "      <td>98.571429</td>\n",
       "      <td>0.000000</td>\n",
       "      <td>141.285714</td>\n",
       "      <td>25.571429</td>\n",
       "    </tr>\n",
       "    <tr>\n",
       "      <th>2</th>\n",
       "      <td>Arizona</td>\n",
       "      <td>AZ</td>\n",
       "      <td>2017.0</td>\n",
       "      <td>360.846154</td>\n",
       "      <td>219.538462</td>\n",
       "      <td>118.153846</td>\n",
       "      <td>20.153846</td>\n",
       "      <td>2.769231</td>\n",
       "      <td>0.153846</td>\n",
       "      <td>0.076923</td>\n",
       "      <td>151.769231</td>\n",
       "      <td>74.384615</td>\n",
       "      <td>47.153846</td>\n",
       "      <td>0.000000</td>\n",
       "      <td>1.538462</td>\n",
       "      <td>193.692308</td>\n",
       "      <td>19.769231</td>\n",
       "      <td>30.769231</td>\n",
       "      <td>115.076923</td>\n",
       "    </tr>\n",
       "    <tr>\n",
       "      <th>3</th>\n",
       "      <td>Arkansas</td>\n",
       "      <td>AR</td>\n",
       "      <td>2017.0</td>\n",
       "      <td>274.636364</td>\n",
       "      <td>226.363636</td>\n",
       "      <td>48.090909</td>\n",
       "      <td>0.181818</td>\n",
       "      <td>0.000000</td>\n",
       "      <td>0.000000</td>\n",
       "      <td>0.000000</td>\n",
       "      <td>84.090909</td>\n",
       "      <td>53.181818</td>\n",
       "      <td>37.000000</td>\n",
       "      <td>0.000000</td>\n",
       "      <td>0.818182</td>\n",
       "      <td>141.545455</td>\n",
       "      <td>0.000000</td>\n",
       "      <td>132.272727</td>\n",
       "      <td>0.000000</td>\n",
       "    </tr>\n",
       "    <tr>\n",
       "      <th>4</th>\n",
       "      <td>California</td>\n",
       "      <td>CA</td>\n",
       "      <td>2017.0</td>\n",
       "      <td>356.037736</td>\n",
       "      <td>203.792453</td>\n",
       "      <td>118.509434</td>\n",
       "      <td>25.207547</td>\n",
       "      <td>6.962264</td>\n",
       "      <td>1.018868</td>\n",
       "      <td>0.207547</td>\n",
       "      <td>286.679245</td>\n",
       "      <td>88.566038</td>\n",
       "      <td>49.188679</td>\n",
       "      <td>0.000000</td>\n",
       "      <td>3.830189</td>\n",
       "      <td>214.056604</td>\n",
       "      <td>0.018868</td>\n",
       "      <td>120.188679</td>\n",
       "      <td>17.943396</td>\n",
       "    </tr>\n",
       "  </tbody>\n",
       "</table>\n",
       "</div>"
      ],
      "text/plain": [
       "        State Abbreviation    Year  Days with AQI   Good Days  Moderate Days  \\\n",
       "0     Alabama           AL  2017.0     289.000000  228.833333      58.888889   \n",
       "1      Alaska           AK  2017.0     267.714286  227.857143      32.428571   \n",
       "2     Arizona           AZ  2017.0     360.846154  219.538462     118.153846   \n",
       "3    Arkansas           AR  2017.0     274.636364  226.363636      48.090909   \n",
       "4  California           CA  2017.0     356.037736  203.792453     118.509434   \n",
       "\n",
       "   Unhealthy for Sensitive Groups Days  Unhealthy Days  Very Unhealthy Days  \\\n",
       "0                             1.166667        0.055556             0.055556   \n",
       "1                             4.428571        3.000000             0.000000   \n",
       "2                            20.153846        2.769231             0.153846   \n",
       "3                             0.181818        0.000000             0.000000   \n",
       "4                            25.207547        6.962264             1.018868   \n",
       "\n",
       "   Hazardous Days     Max AQI  90th Percentile AQI  Median AQI   Days CO  \\\n",
       "0        0.000000  104.666667            54.500000   38.166667  0.000000   \n",
       "1        0.000000   90.571429            50.714286   22.000000  0.857143   \n",
       "2        0.076923  151.769231            74.384615   47.153846  0.000000   \n",
       "3        0.000000   84.090909            53.181818   37.000000  0.000000   \n",
       "4        0.207547  286.679245            88.566038   49.188679  0.000000   \n",
       "\n",
       "   Days NO2  Days Ozone   Days SO2  Days PM2.5   Days PM10  \n",
       "0  0.111111  153.444444  10.888889  121.500000    3.055556  \n",
       "1  1.428571   98.571429   0.000000  141.285714   25.571429  \n",
       "2  1.538462  193.692308  19.769231   30.769231  115.076923  \n",
       "3  0.818182  141.545455   0.000000  132.272727    0.000000  \n",
       "4  3.830189  214.056604   0.018868  120.188679   17.943396  "
      ]
     },
     "execution_count": 7,
     "metadata": {},
     "output_type": "execute_result"
    }
   ],
   "source": [
    "avgData = pd.merge(stateAbbreviations, avgData, how='inner', on='State')\n",
    "avgData.head()"
   ]
  },
  {
   "cell_type": "code",
   "execution_count": 8,
   "metadata": {},
   "outputs": [],
   "source": [
    "wiki = 'https://en.wikipedia.org/wiki/List_of_U.S._states_and_territories_by_population'\n",
    "page = requests.get(wiki)\n",
    "soup = BeautifulSoup(page.content, 'html.parser')"
   ]
  },
  {
   "cell_type": "code",
   "execution_count": 9,
   "metadata": {},
   "outputs": [],
   "source": [
    "right_table = soup.find('table', class_='wikitable sortable')\n"
   ]
  },
  {
   "cell_type": "code",
   "execution_count": 10,
   "metadata": {},
   "outputs": [],
   "source": [
    "lst_a, lst_b= [], []\n",
    "\n",
    "for row in right_table.findAll('tr'):\n",
    "    \n",
    "    cells = row.findAll('td')\n",
    "    if len(cells) != 11:\n",
    "        continue\n",
    "\n",
    "    # This catches when the name cells stops having a link\n",
    "    #  and ends, skipping the last (summary rows)\n",
    "    try:\n",
    "        \n",
    "        lst_a.append(cells[2].find('a').text)\n",
    "        lst_b.append(cells[3].find(text=True))\n",
    "    except:\n",
    "        break\n",
    "\n"
   ]
  },
  {
   "cell_type": "code",
   "execution_count": 11,
   "metadata": {},
   "outputs": [],
   "source": [
    "popDF = pd.DataFrame()\n",
    "popDF['State'] = lst_a\n",
    "popDF['Population Estimate'] = lst_b\n",
    "popDF['Population Estimate'] = popDF['Population Estimate'].replace('\\n','', regex=True)\n",
    "popDF['Population Estimate'] = popDF['Population Estimate'].replace(',','', regex=True)"
   ]
  },
  {
   "cell_type": "code",
   "execution_count": 12,
   "metadata": {},
   "outputs": [],
   "source": [
    "avgData = pd.merge(popDF, avgData, how='inner', on='State')\n"
   ]
  },
  {
   "cell_type": "code",
   "execution_count": 13,
   "metadata": {},
   "outputs": [],
   "source": [
    "avgData['Population Estimate'] = avgData['Population Estimate'].astype(float)"
   ]
  },
  {
   "cell_type": "code",
   "execution_count": 14,
   "metadata": {},
   "outputs": [
    {
     "data": {
      "text/html": [
       "<div>\n",
       "<style>\n",
       "    .dataframe thead tr:only-child th {\n",
       "        text-align: right;\n",
       "    }\n",
       "\n",
       "    .dataframe thead th {\n",
       "        text-align: left;\n",
       "    }\n",
       "\n",
       "    .dataframe tbody tr th {\n",
       "        vertical-align: top;\n",
       "    }\n",
       "</style>\n",
       "<table border=\"1\" class=\"dataframe\">\n",
       "  <thead>\n",
       "    <tr style=\"text-align: right;\">\n",
       "      <th></th>\n",
       "      <th>State</th>\n",
       "      <th>Population Estimate</th>\n",
       "      <th>Abbreviation</th>\n",
       "      <th>Year</th>\n",
       "      <th>Days with AQI</th>\n",
       "      <th>Good Days</th>\n",
       "      <th>Moderate Days</th>\n",
       "      <th>Unhealthy for Sensitive Groups Days</th>\n",
       "      <th>Unhealthy Days</th>\n",
       "      <th>Very Unhealthy Days</th>\n",
       "      <th>...</th>\n",
       "      <th>Max AQI</th>\n",
       "      <th>90th Percentile AQI</th>\n",
       "      <th>Median AQI</th>\n",
       "      <th>Days CO</th>\n",
       "      <th>Days NO2</th>\n",
       "      <th>Days Ozone</th>\n",
       "      <th>Days SO2</th>\n",
       "      <th>Days PM2.5</th>\n",
       "      <th>Days PM10</th>\n",
       "      <th>Unhealthy or Worse Days</th>\n",
       "    </tr>\n",
       "  </thead>\n",
       "  <tbody>\n",
       "    <tr>\n",
       "      <th>0</th>\n",
       "      <td>California</td>\n",
       "      <td>39536653.0</td>\n",
       "      <td>CA</td>\n",
       "      <td>2017.0</td>\n",
       "      <td>356.037736</td>\n",
       "      <td>203.792453</td>\n",
       "      <td>118.509434</td>\n",
       "      <td>25.207547</td>\n",
       "      <td>6.962264</td>\n",
       "      <td>1.018868</td>\n",
       "      <td>...</td>\n",
       "      <td>286.679245</td>\n",
       "      <td>88.566038</td>\n",
       "      <td>49.188679</td>\n",
       "      <td>0.000000</td>\n",
       "      <td>3.830189</td>\n",
       "      <td>214.056604</td>\n",
       "      <td>0.018868</td>\n",
       "      <td>120.188679</td>\n",
       "      <td>17.943396</td>\n",
       "      <td>8.188679</td>\n",
       "    </tr>\n",
       "    <tr>\n",
       "      <th>1</th>\n",
       "      <td>Texas</td>\n",
       "      <td>28304596.0</td>\n",
       "      <td>TX</td>\n",
       "      <td>2017.0</td>\n",
       "      <td>331.653061</td>\n",
       "      <td>273.551020</td>\n",
       "      <td>52.775510</td>\n",
       "      <td>4.693878</td>\n",
       "      <td>0.632653</td>\n",
       "      <td>0.000000</td>\n",
       "      <td>...</td>\n",
       "      <td>114.408163</td>\n",
       "      <td>56.000000</td>\n",
       "      <td>32.836735</td>\n",
       "      <td>0.020408</td>\n",
       "      <td>3.204082</td>\n",
       "      <td>179.510204</td>\n",
       "      <td>43.326531</td>\n",
       "      <td>105.448980</td>\n",
       "      <td>0.142857</td>\n",
       "      <td>0.632653</td>\n",
       "    </tr>\n",
       "    <tr>\n",
       "      <th>2</th>\n",
       "      <td>Florida</td>\n",
       "      <td>20984400.0</td>\n",
       "      <td>FL</td>\n",
       "      <td>2017.0</td>\n",
       "      <td>355.384615</td>\n",
       "      <td>307.000000</td>\n",
       "      <td>47.282051</td>\n",
       "      <td>1.102564</td>\n",
       "      <td>0.000000</td>\n",
       "      <td>0.000000</td>\n",
       "      <td>...</td>\n",
       "      <td>105.846154</td>\n",
       "      <td>52.512821</td>\n",
       "      <td>36.897436</td>\n",
       "      <td>0.179487</td>\n",
       "      <td>1.128205</td>\n",
       "      <td>227.641026</td>\n",
       "      <td>3.512821</td>\n",
       "      <td>112.794872</td>\n",
       "      <td>10.128205</td>\n",
       "      <td>0.000000</td>\n",
       "    </tr>\n",
       "    <tr>\n",
       "      <th>3</th>\n",
       "      <td>New York</td>\n",
       "      <td>19849399.0</td>\n",
       "      <td>NY</td>\n",
       "      <td>2017.0</td>\n",
       "      <td>352.322581</td>\n",
       "      <td>317.419355</td>\n",
       "      <td>32.709677</td>\n",
       "      <td>2.096774</td>\n",
       "      <td>0.096774</td>\n",
       "      <td>0.000000</td>\n",
       "      <td>...</td>\n",
       "      <td>99.225806</td>\n",
       "      <td>49.096774</td>\n",
       "      <td>31.645161</td>\n",
       "      <td>0.032258</td>\n",
       "      <td>9.129032</td>\n",
       "      <td>232.709677</td>\n",
       "      <td>33.096774</td>\n",
       "      <td>77.290323</td>\n",
       "      <td>0.064516</td>\n",
       "      <td>0.096774</td>\n",
       "    </tr>\n",
       "    <tr>\n",
       "      <th>4</th>\n",
       "      <td>Pennsylvania</td>\n",
       "      <td>12805537.0</td>\n",
       "      <td>PA</td>\n",
       "      <td>2017.0</td>\n",
       "      <td>361.842105</td>\n",
       "      <td>269.526316</td>\n",
       "      <td>89.763158</td>\n",
       "      <td>2.394737</td>\n",
       "      <td>0.157895</td>\n",
       "      <td>0.000000</td>\n",
       "      <td>...</td>\n",
       "      <td>108.894737</td>\n",
       "      <td>59.000000</td>\n",
       "      <td>40.684211</td>\n",
       "      <td>0.000000</td>\n",
       "      <td>1.631579</td>\n",
       "      <td>211.368421</td>\n",
       "      <td>11.131579</td>\n",
       "      <td>136.315789</td>\n",
       "      <td>1.394737</td>\n",
       "      <td>0.157895</td>\n",
       "    </tr>\n",
       "  </tbody>\n",
       "</table>\n",
       "<p>5 rows × 21 columns</p>\n",
       "</div>"
      ],
      "text/plain": [
       "          State  Population Estimate Abbreviation    Year  Days with AQI  \\\n",
       "0    California           39536653.0           CA  2017.0     356.037736   \n",
       "1         Texas           28304596.0           TX  2017.0     331.653061   \n",
       "2       Florida           20984400.0           FL  2017.0     355.384615   \n",
       "3      New York           19849399.0           NY  2017.0     352.322581   \n",
       "4  Pennsylvania           12805537.0           PA  2017.0     361.842105   \n",
       "\n",
       "    Good Days  Moderate Days  Unhealthy for Sensitive Groups Days  \\\n",
       "0  203.792453     118.509434                            25.207547   \n",
       "1  273.551020      52.775510                             4.693878   \n",
       "2  307.000000      47.282051                             1.102564   \n",
       "3  317.419355      32.709677                             2.096774   \n",
       "4  269.526316      89.763158                             2.394737   \n",
       "\n",
       "   Unhealthy Days  Very Unhealthy Days           ...                Max AQI  \\\n",
       "0        6.962264             1.018868           ...             286.679245   \n",
       "1        0.632653             0.000000           ...             114.408163   \n",
       "2        0.000000             0.000000           ...             105.846154   \n",
       "3        0.096774             0.000000           ...              99.225806   \n",
       "4        0.157895             0.000000           ...             108.894737   \n",
       "\n",
       "   90th Percentile AQI  Median AQI   Days CO  Days NO2  Days Ozone   Days SO2  \\\n",
       "0            88.566038   49.188679  0.000000  3.830189  214.056604   0.018868   \n",
       "1            56.000000   32.836735  0.020408  3.204082  179.510204  43.326531   \n",
       "2            52.512821   36.897436  0.179487  1.128205  227.641026   3.512821   \n",
       "3            49.096774   31.645161  0.032258  9.129032  232.709677  33.096774   \n",
       "4            59.000000   40.684211  0.000000  1.631579  211.368421  11.131579   \n",
       "\n",
       "   Days PM2.5  Days PM10  Unhealthy or Worse Days  \n",
       "0  120.188679  17.943396                 8.188679  \n",
       "1  105.448980   0.142857                 0.632653  \n",
       "2  112.794872  10.128205                 0.000000  \n",
       "3   77.290323   0.064516                 0.096774  \n",
       "4  136.315789   1.394737                 0.157895  \n",
       "\n",
       "[5 rows x 21 columns]"
      ]
     },
     "execution_count": 14,
     "metadata": {},
     "output_type": "execute_result"
    }
   ],
   "source": [
    "avgData['Unhealthy or Worse Days'] = avgData['Unhealthy Days']+avgData['Very Unhealthy Days']+ avgData['Hazardous Days']\n",
    "avgData.head()\n"
   ]
  },
  {
   "cell_type": "code",
   "execution_count": 15,
   "metadata": {},
   "outputs": [],
   "source": [
    "avgData['Median AQI per million people'] = avgData['Median AQI']/avgData['Population Estimate'] * 1000000\n",
    "avgData['Days PM2.5 per million people'] = avgData['Days PM2.5']/avgData['Population Estimate'] * 1000000"
   ]
  },
  {
   "cell_type": "markdown",
   "metadata": {},
   "source": [
    "## Exploratory Graphs"
   ]
  },
  {
   "cell_type": "markdown",
   "metadata": {},
   "source": [
    "### Graph of days that are considered unhealthy and worse."
   ]
  },
  {
   "cell_type": "code",
   "execution_count": 16,
   "metadata": {},
   "outputs": [],
   "source": [
    "avgStrDta = avgData.copy()"
   ]
  },
  {
   "cell_type": "code",
   "execution_count": 17,
   "metadata": {},
   "outputs": [],
   "source": [
    "for col in avgStrDta.columns:\n",
    "    avgStrDta[col] = avgStrDta[col].astype(str)\n"
   ]
  },
  {
   "cell_type": "code",
   "execution_count": 18,
   "metadata": {},
   "outputs": [],
   "source": [
    "scl = [[0.0, 'rgb(242,240,247)'],[0.2, 'rgb(218,218,235)'],[0.4, 'rgb(188,189,220)'],\\\n",
    "            [0.6, 'rgb(158,154,200)'],[0.8, 'rgb(117,107,177)'],[1.0, 'rgb(84,39,143)']]\n",
    "\n",
    "avgStrDta['text'] = avgStrDta['State'] + '<br>' +\\\n",
    "    'Unhealthy days: '+avgStrDta['Unhealthy Days'] + '<br>' +\\\n",
    "    'Very Unhealthy Days: ' +avgStrDta['Very Unhealthy Days'] + '<br>'+\\\n",
    "    'Hazardous Days: '+avgStrDta['Hazardous Days']\n",
    "    \n"
   ]
  },
  {
   "cell_type": "code",
   "execution_count": 19,
   "metadata": {},
   "outputs": [],
   "source": [
    "data = [ dict(\n",
    "        type='choropleth',\n",
    "        colorscale = scl,\n",
    "        autocolorscale = False,\n",
    "        locations = avgStrDta['Abbreviation'],\n",
    "        z = avgStrDta['Unhealthy or Worse Days'].astype(float),\n",
    "        locationmode = 'USA-states',\n",
    "        text = avgStrDta['text'],\n",
    "        marker = dict(\n",
    "            line = dict (\n",
    "                color = 'rgb(255,255,255)',\n",
    "                width = 2\n",
    "            ) ),\n",
    "        colorbar = dict(\n",
    "            title = \"Average Days\")\n",
    "        ) ]"
   ]
  },
  {
   "cell_type": "code",
   "execution_count": 20,
   "metadata": {},
   "outputs": [],
   "source": [
    "layout = dict(\n",
    "        title = '2017 US Unhealthy or Worse Days by State<br>(Hover for breakdown)',\n",
    "        geo = dict(\n",
    "            scope='usa',\n",
    "            projection=dict( type='albers usa' ),\n",
    "            showlakes = True,\n",
    "            lakecolor = 'rgb(255, 255, 255)'),\n",
    "             )\n",
    "    \n"
   ]
  },
  {
   "cell_type": "code",
   "execution_count": 21,
   "metadata": {},
   "outputs": [
    {
     "name": "stdout",
     "output_type": "stream",
     "text": [
      "High five! You successfully sent some data to your account on plotly. View your plot in your browser at https://plot.ly/~LilArveen/0 or inside your plot.ly account where it is named 'd3-cloropleth-map'\n"
     ]
    },
    {
     "data": {
      "text/html": [
       "<iframe id=\"igraph\" scrolling=\"no\" style=\"border:none;\" seamless=\"seamless\" src=\"https://plot.ly/~LilArveen/0.embed\" height=\"525px\" width=\"100%\"></iframe>"
      ],
      "text/plain": [
       "<plotly.tools.PlotlyDisplay object>"
      ]
     },
     "execution_count": 21,
     "metadata": {},
     "output_type": "execute_result"
    }
   ],
   "source": [
    "#py.tools.set_credentials_file(username='LilArveen', api_key='KbGcu7YS02M71TS8ZQxk')\n",
    "fig = dict( data=data, layout=layout )\n",
    "py.iplot( fig, filename='d3-cloropleth-map' )"
   ]
  },
  {
   "cell_type": "markdown",
   "metadata": {},
   "source": [
    "As you can see above, while most western states typically have worse days than eastern states, Hawaii is way off the charts. This may be due to the fact that Hawaii has an active volcano known as Kileauea. "
   ]
  },
  {
   "cell_type": "markdown",
   "metadata": {},
   "source": [
    "Thus, in order to have a better sense of what is happening in other states, I will disregard Hawaii for now"
   ]
  },
  {
   "cell_type": "code",
   "execution_count": 22,
   "metadata": {},
   "outputs": [
    {
     "data": {
      "text/html": [
       "<iframe id=\"igraph\" scrolling=\"no\" style=\"border:none;\" seamless=\"seamless\" src=\"https://plot.ly/~LilArveen/2.embed\" height=\"525px\" width=\"100%\"></iframe>"
      ],
      "text/plain": [
       "<plotly.tools.PlotlyDisplay object>"
      ]
     },
     "execution_count": 22,
     "metadata": {},
     "output_type": "execute_result"
    }
   ],
   "source": [
    "noHawaii = avgStrDta.copy()\n",
    "cols = [col for col in noHawaii.columns if col != 'Abbreviation']\n",
    "noHawaii.loc[noHawaii['Abbreviation'] == 'HI', cols ] = '0'\n",
    "\n",
    "data = [ dict(\n",
    "        type='choropleth',\n",
    "        colorscale = scl,\n",
    "        autocolorscale = False,\n",
    "        locations = noHawaii['Abbreviation'],\n",
    "        z = noHawaii['Unhealthy or Worse Days'].astype(float),\n",
    "        locationmode = 'USA-states',\n",
    "        text = noHawaii['text'],\n",
    "        marker = dict(\n",
    "            line = dict (\n",
    "                color = 'rgb(255,255,255)',\n",
    "                width = 2\n",
    "            ) ),\n",
    "        colorbar = dict(\n",
    "            title = \"Average Days\")\n",
    "        ) ]\n",
    "\n",
    "layout = dict(\n",
    "        title = '2017 US Unhealthy or Worse Days by State without Hawaii <br>(Hover for breakdown)',\n",
    "        geo = dict(\n",
    "            scope='usa',\n",
    "            projection=dict( type='albers usa' ),\n",
    "            showlakes = True,\n",
    "            lakecolor = 'rgb(255, 255, 255)'),\n",
    "             )\n",
    "\n",
    "fig = dict( data=data, layout=layout )\n",
    "py.iplot( fig, filename='noHawaii-cloropleth-map' )"
   ]
  },
  {
   "cell_type": "markdown",
   "metadata": {},
   "source": [
    "Western states seem to have more unhealthy days, but that may be due to the fact that wildfires are far more common\n",
    "along the west coast than the east coast."
   ]
  },
  {
   "cell_type": "markdown",
   "metadata": {},
   "source": [
    "### Days PM2.5 per million people"
   ]
  },
  {
   "cell_type": "code",
   "execution_count": 23,
   "metadata": {},
   "outputs": [],
   "source": [
    "avgStrDta['text'] = avgStrDta['State'] + '<br>' +\\\n",
    "    'PM2.5 Days per million people: '+avgStrDta['Days PM2.5 per million people']"
   ]
  },
  {
   "cell_type": "code",
   "execution_count": 24,
   "metadata": {},
   "outputs": [],
   "source": [
    "data = [ dict(\n",
    "        type='choropleth',\n",
    "        colorscale = scl,\n",
    "        autocolorscale = False,\n",
    "        locations = avgStrDta['Abbreviation'],\n",
    "        z = avgStrDta['Days PM2.5 per million people'].astype(float),\n",
    "        locationmode = 'USA-states',\n",
    "        text = avgStrDta['text'],\n",
    "        marker = dict(\n",
    "            line = dict (\n",
    "                color = 'rgb(255,255,255)',\n",
    "                width = 2\n",
    "            ) ),\n",
    "        colorbar = dict(\n",
    "            title = \"Average Days\")\n",
    "        ) ]\n",
    "\n",
    "layout = dict(\n",
    "        title = '2017 US Days PM2.5 per million people by State<br>(Hover for breakdown)',\n",
    "        geo = dict(\n",
    "            scope='usa',\n",
    "            projection=dict( type='albers usa' ),\n",
    "            showlakes = True,\n",
    "            lakecolor = 'rgb(255, 255, 255)'),\n",
    "             )"
   ]
  },
  {
   "cell_type": "code",
   "execution_count": 25,
   "metadata": {},
   "outputs": [
    {
     "data": {
      "text/html": [
       "<iframe id=\"igraph\" scrolling=\"no\" style=\"border:none;\" seamless=\"seamless\" src=\"https://plot.ly/~LilArveen/10.embed\" height=\"525px\" width=\"100%\"></iframe>"
      ],
      "text/plain": [
       "<plotly.tools.PlotlyDisplay object>"
      ]
     },
     "execution_count": 25,
     "metadata": {},
     "output_type": "execute_result"
    }
   ],
   "source": [
    "fig = dict( data=data, layout=layout )\n",
    "py.iplot( fig, filename='DaysPM2.5-cloropleth-map' )"
   ]
  },
  {
   "cell_type": "markdown",
   "metadata": {},
   "source": [
    "### Median AQI per million people"
   ]
  },
  {
   "cell_type": "code",
   "execution_count": 26,
   "metadata": {},
   "outputs": [],
   "source": [
    "avgStrDta['text'] = avgStrDta['State'] + '<br>' +\\\n",
    "    'Median AQI Days per million people: '+avgStrDta['Median AQI per million people']"
   ]
  },
  {
   "cell_type": "code",
   "execution_count": 27,
   "metadata": {},
   "outputs": [],
   "source": [
    "data = [ dict(\n",
    "        type='choropleth',\n",
    "        colorscale = scl,\n",
    "        autocolorscale = False,\n",
    "        locations = avgStrDta['Abbreviation'],\n",
    "        z = avgStrDta['Median AQI per million people'].astype(float),\n",
    "        locationmode = 'USA-states',\n",
    "        text = avgStrDta['text'],\n",
    "        marker = dict(\n",
    "            line = dict (\n",
    "                color = 'rgb(255,255,255)',\n",
    "                width = 2\n",
    "            ) ),\n",
    "        colorbar = dict(\n",
    "            title = \"Average Days\")\n",
    "        ) ]\n",
    "\n",
    "layout = dict(\n",
    "        title = '2017 US Median AQI per million people by State<br>(Hover for breakdown)',\n",
    "        geo = dict(\n",
    "            scope='usa',\n",
    "            projection=dict( type='albers usa' ),\n",
    "            showlakes = True,\n",
    "            lakecolor = 'rgb(255, 255, 255)'),\n",
    "             )"
   ]
  },
  {
   "cell_type": "code",
   "execution_count": 28,
   "metadata": {},
   "outputs": [
    {
     "data": {
      "text/html": [
       "<iframe id=\"igraph\" scrolling=\"no\" style=\"border:none;\" seamless=\"seamless\" src=\"https://plot.ly/~LilArveen/12.embed\" height=\"525px\" width=\"100%\"></iframe>"
      ],
      "text/plain": [
       "<plotly.tools.PlotlyDisplay object>"
      ]
     },
     "execution_count": 28,
     "metadata": {},
     "output_type": "execute_result"
    }
   ],
   "source": [
    "fig = dict( data=data, layout=layout )\n",
    "py.iplot( fig, filename='MedianAQI-cloropleth-map' )\n"
   ]
  },
  {
   "cell_type": "markdown",
   "metadata": {},
   "source": [
    "## Correlation of Pollution levels and political orientation"
   ]
  },
  {
   "cell_type": "markdown",
   "metadata": {},
   "source": [
    "### Assigning Red, Blue, or purple based off how the state went in the past 4 elections"
   ]
  },
  {
   "cell_type": "code",
   "execution_count": 29,
   "metadata": {},
   "outputs": [],
   "source": [
    "politicalAllignment  = pd.read_csv(\"Political Allignment.csv\")"
   ]
  },
  {
   "cell_type": "code",
   "execution_count": 30,
   "metadata": {},
   "outputs": [],
   "source": [
    "avgData = pd.merge(politicalAllignment, avgData, how='inner', on='Abbreviation')\n"
   ]
  },
  {
   "cell_type": "code",
   "execution_count": 31,
   "metadata": {},
   "outputs": [
    {
     "data": {
      "text/html": [
       "<div>\n",
       "<style>\n",
       "    .dataframe thead tr:only-child th {\n",
       "        text-align: right;\n",
       "    }\n",
       "\n",
       "    .dataframe thead th {\n",
       "        text-align: left;\n",
       "    }\n",
       "\n",
       "    .dataframe tbody tr th {\n",
       "        vertical-align: top;\n",
       "    }\n",
       "</style>\n",
       "<table border=\"1\" class=\"dataframe\">\n",
       "  <thead>\n",
       "    <tr style=\"text-align: right;\">\n",
       "      <th></th>\n",
       "      <th>Abbreviation</th>\n",
       "      <th>Political Allignment</th>\n",
       "      <th>State</th>\n",
       "      <th>Population Estimate</th>\n",
       "      <th>Year</th>\n",
       "      <th>Days with AQI</th>\n",
       "      <th>Good Days</th>\n",
       "      <th>Moderate Days</th>\n",
       "      <th>Unhealthy for Sensitive Groups Days</th>\n",
       "      <th>Unhealthy Days</th>\n",
       "      <th>...</th>\n",
       "      <th>Median AQI</th>\n",
       "      <th>Days CO</th>\n",
       "      <th>Days NO2</th>\n",
       "      <th>Days Ozone</th>\n",
       "      <th>Days SO2</th>\n",
       "      <th>Days PM2.5</th>\n",
       "      <th>Days PM10</th>\n",
       "      <th>Unhealthy or Worse Days</th>\n",
       "      <th>Median AQI per million people</th>\n",
       "      <th>Days PM2.5 per million people</th>\n",
       "    </tr>\n",
       "  </thead>\n",
       "  <tbody>\n",
       "    <tr>\n",
       "      <th>0</th>\n",
       "      <td>AL</td>\n",
       "      <td>R</td>\n",
       "      <td>Alabama</td>\n",
       "      <td>4874747.0</td>\n",
       "      <td>2017.0</td>\n",
       "      <td>289.000000</td>\n",
       "      <td>228.833333</td>\n",
       "      <td>58.888889</td>\n",
       "      <td>1.166667</td>\n",
       "      <td>0.055556</td>\n",
       "      <td>...</td>\n",
       "      <td>38.166667</td>\n",
       "      <td>0.000000</td>\n",
       "      <td>0.111111</td>\n",
       "      <td>153.444444</td>\n",
       "      <td>10.888889</td>\n",
       "      <td>121.500000</td>\n",
       "      <td>3.055556</td>\n",
       "      <td>0.111111</td>\n",
       "      <td>7.829466</td>\n",
       "      <td>24.924370</td>\n",
       "    </tr>\n",
       "    <tr>\n",
       "      <th>1</th>\n",
       "      <td>AK</td>\n",
       "      <td>R</td>\n",
       "      <td>Alaska</td>\n",
       "      <td>739795.0</td>\n",
       "      <td>2017.0</td>\n",
       "      <td>267.714286</td>\n",
       "      <td>227.857143</td>\n",
       "      <td>32.428571</td>\n",
       "      <td>4.428571</td>\n",
       "      <td>3.000000</td>\n",
       "      <td>...</td>\n",
       "      <td>22.000000</td>\n",
       "      <td>0.857143</td>\n",
       "      <td>1.428571</td>\n",
       "      <td>98.571429</td>\n",
       "      <td>0.000000</td>\n",
       "      <td>141.285714</td>\n",
       "      <td>25.571429</td>\n",
       "      <td>3.000000</td>\n",
       "      <td>29.737968</td>\n",
       "      <td>190.979547</td>\n",
       "    </tr>\n",
       "    <tr>\n",
       "      <th>2</th>\n",
       "      <td>AZ</td>\n",
       "      <td>R</td>\n",
       "      <td>Arizona</td>\n",
       "      <td>7016270.0</td>\n",
       "      <td>2017.0</td>\n",
       "      <td>360.846154</td>\n",
       "      <td>219.538462</td>\n",
       "      <td>118.153846</td>\n",
       "      <td>20.153846</td>\n",
       "      <td>2.769231</td>\n",
       "      <td>...</td>\n",
       "      <td>47.153846</td>\n",
       "      <td>0.000000</td>\n",
       "      <td>1.538462</td>\n",
       "      <td>193.692308</td>\n",
       "      <td>19.769231</td>\n",
       "      <td>30.769231</td>\n",
       "      <td>115.076923</td>\n",
       "      <td>3.000000</td>\n",
       "      <td>6.720643</td>\n",
       "      <td>4.385411</td>\n",
       "    </tr>\n",
       "    <tr>\n",
       "      <th>3</th>\n",
       "      <td>AR</td>\n",
       "      <td>R</td>\n",
       "      <td>Arkansas</td>\n",
       "      <td>3004279.0</td>\n",
       "      <td>2017.0</td>\n",
       "      <td>274.636364</td>\n",
       "      <td>226.363636</td>\n",
       "      <td>48.090909</td>\n",
       "      <td>0.181818</td>\n",
       "      <td>0.000000</td>\n",
       "      <td>...</td>\n",
       "      <td>37.000000</td>\n",
       "      <td>0.000000</td>\n",
       "      <td>0.818182</td>\n",
       "      <td>141.545455</td>\n",
       "      <td>0.000000</td>\n",
       "      <td>132.272727</td>\n",
       "      <td>0.000000</td>\n",
       "      <td>0.000000</td>\n",
       "      <td>12.315767</td>\n",
       "      <td>44.028110</td>\n",
       "    </tr>\n",
       "    <tr>\n",
       "      <th>4</th>\n",
       "      <td>CA</td>\n",
       "      <td>D</td>\n",
       "      <td>California</td>\n",
       "      <td>39536653.0</td>\n",
       "      <td>2017.0</td>\n",
       "      <td>356.037736</td>\n",
       "      <td>203.792453</td>\n",
       "      <td>118.509434</td>\n",
       "      <td>25.207547</td>\n",
       "      <td>6.962264</td>\n",
       "      <td>...</td>\n",
       "      <td>49.188679</td>\n",
       "      <td>0.000000</td>\n",
       "      <td>3.830189</td>\n",
       "      <td>214.056604</td>\n",
       "      <td>0.018868</td>\n",
       "      <td>120.188679</td>\n",
       "      <td>17.943396</td>\n",
       "      <td>8.188679</td>\n",
       "      <td>1.244129</td>\n",
       "      <td>3.039931</td>\n",
       "    </tr>\n",
       "  </tbody>\n",
       "</table>\n",
       "<p>5 rows × 24 columns</p>\n",
       "</div>"
      ],
      "text/plain": [
       "  Abbreviation Political Allignment       State  Population Estimate    Year  \\\n",
       "0           AL                    R     Alabama            4874747.0  2017.0   \n",
       "1           AK                    R      Alaska             739795.0  2017.0   \n",
       "2           AZ                    R     Arizona            7016270.0  2017.0   \n",
       "3           AR                    R    Arkansas            3004279.0  2017.0   \n",
       "4           CA                    D  California           39536653.0  2017.0   \n",
       "\n",
       "   Days with AQI   Good Days  Moderate Days  \\\n",
       "0     289.000000  228.833333      58.888889   \n",
       "1     267.714286  227.857143      32.428571   \n",
       "2     360.846154  219.538462     118.153846   \n",
       "3     274.636364  226.363636      48.090909   \n",
       "4     356.037736  203.792453     118.509434   \n",
       "\n",
       "   Unhealthy for Sensitive Groups Days  Unhealthy Days  \\\n",
       "0                             1.166667        0.055556   \n",
       "1                             4.428571        3.000000   \n",
       "2                            20.153846        2.769231   \n",
       "3                             0.181818        0.000000   \n",
       "4                            25.207547        6.962264   \n",
       "\n",
       "               ...                Median AQI   Days CO  Days NO2  Days Ozone  \\\n",
       "0              ...                 38.166667  0.000000  0.111111  153.444444   \n",
       "1              ...                 22.000000  0.857143  1.428571   98.571429   \n",
       "2              ...                 47.153846  0.000000  1.538462  193.692308   \n",
       "3              ...                 37.000000  0.000000  0.818182  141.545455   \n",
       "4              ...                 49.188679  0.000000  3.830189  214.056604   \n",
       "\n",
       "    Days SO2  Days PM2.5   Days PM10  Unhealthy or Worse Days  \\\n",
       "0  10.888889  121.500000    3.055556                 0.111111   \n",
       "1   0.000000  141.285714   25.571429                 3.000000   \n",
       "2  19.769231   30.769231  115.076923                 3.000000   \n",
       "3   0.000000  132.272727    0.000000                 0.000000   \n",
       "4   0.018868  120.188679   17.943396                 8.188679   \n",
       "\n",
       "   Median AQI per million people  Days PM2.5 per million people  \n",
       "0                       7.829466                      24.924370  \n",
       "1                      29.737968                     190.979547  \n",
       "2                       6.720643                       4.385411  \n",
       "3                      12.315767                      44.028110  \n",
       "4                       1.244129                       3.039931  \n",
       "\n",
       "[5 rows x 24 columns]"
      ]
     },
     "execution_count": 31,
     "metadata": {},
     "output_type": "execute_result"
    }
   ],
   "source": [
    "avgData.head()"
   ]
  },
  {
   "cell_type": "code",
   "execution_count": 32,
   "metadata": {},
   "outputs": [],
   "source": [
    "avgDataPolitical = avgData.groupby('Political Allignment', as_index=False).mean()\n"
   ]
  },
  {
   "cell_type": "code",
   "execution_count": 33,
   "metadata": {},
   "outputs": [
    {
     "data": {
      "text/plain": [
       "<matplotlib.axes._subplots.AxesSubplot at 0x112a06390>"
      ]
     },
     "execution_count": 33,
     "metadata": {},
     "output_type": "execute_result"
    },
    {
     "data": {
      "image/png": "[encoded data removed]",
      "text/plain": [
       "<matplotlib.figure.Figure at 0x110838320>"
      ]
     },
     "metadata": {},
     "output_type": "display_data"
    }
   ],
   "source": [
    "sns.barplot(x=\"Political Allignment\", y=\"Unhealthy or Worse Days\", data = avgDataPolitical)"
   ]
  },
  {
   "cell_type": "markdown",
   "metadata": {},
   "source": [
    "While the above bar seems to show that Democratic states tend to have unhealthy or worse days more often than republican states it does not take into the fact that most Democratic states either have more population, or have more wild fires on average(states like California, etc) when compared to red states."
   ]
  },
  {
   "cell_type": "code",
   "execution_count": 34,
   "metadata": {},
   "outputs": [
    {
     "data": {
      "text/plain": [
       "<matplotlib.axes._subplots.AxesSubplot at 0x112aa2f60>"
      ]
     },
     "execution_count": 34,
     "metadata": {},
     "output_type": "execute_result"
    },
    {
     "data": {
      "image/png": "[encoded data removed]",
      "text/plain": [
       "<matplotlib.figure.Figure at 0x10731dbe0>"
      ]
     },
     "metadata": {},
     "output_type": "display_data"
    }
   ],
   "source": [
    "sns.barplot(x=\"Political Allignment\", y=\"Median AQI per million people\", data = avgDataPolitical)"
   ]
  },
  {
   "cell_type": "code",
   "execution_count": 35,
   "metadata": {},
   "outputs": [
    {
     "data": {
      "text/plain": [
       "<matplotlib.axes._subplots.AxesSubplot at 0x112c495f8>"
      ]
     },
     "execution_count": 35,
     "metadata": {},
     "output_type": "execute_result"
    },
    {
     "data": {
      "image/png": "[encoded data removed]",
      "text/plain": [
       "<matplotlib.figure.Figure at 0x112c41da0>"
      ]
     },
     "metadata": {},
     "output_type": "display_data"
    }
   ],
   "source": [
    "sns.barplot(x=\"Political Allignment\", y=\"Days PM2.5 per million people\", data = avgDataPolitical)"
   ]
  },
  {
   "cell_type": "markdown",
   "metadata": {},
   "source": [
    "As we can see, when we take population into account, republican states tend to be more polluted per million people."
   ]
  },
  {
   "cell_type": "markdown",
   "metadata": {},
   "source": [
    "However, does political allignemnet help determine the days where the particulate matter(PM) is above 2.5? Does it also help determine the median AQI?"
   ]
  },
  {
   "cell_type": "code",
   "execution_count": 36,
   "metadata": {},
   "outputs": [
    {
     "name": "stderr",
     "output_type": "stream",
     "text": [
      "/Users/Alvin/anaconda3/lib/python3.6/site-packages/statsmodels/compat/pandas.py:56: FutureWarning:\n",
      "\n",
      "The pandas.core.datetools module is deprecated and will be removed in a future version. Please use the pandas.tseries module instead.\n",
      "\n"
     ]
    }
   ],
   "source": [
    "import statsmodels.api as sm\n",
    "import scipy.stats as stats"
   ]
  },
  {
   "cell_type": "code",
   "execution_count": 37,
   "metadata": {},
   "outputs": [],
   "source": [
    "avgData['PoliticalNumber'] = np.where(avgData['Political Allignment']=='D', 1,np.where(avgData['Political Allignment'] == 'R', -1, 0))\n",
    "avgData.drop(['State', 'Abbreviation', 'Year'], axis=1, inplace=True)"
   ]
  },
  {
   "cell_type": "code",
   "execution_count": 38,
   "metadata": {},
   "outputs": [
    {
     "name": "stdout",
     "output_type": "stream",
     "text": [
      "                                  OLS Regression Results                                 \n",
      "=========================================================================================\n",
      "Dep. Variable:     Days PM2.5 per million people   R-squared:                       0.876\n",
      "Model:                                       OLS   Adj. R-squared:                  0.813\n",
      "Method:                            Least Squares   F-statistic:                     13.77\n",
      "Date:                           Sat, 22 Sep 2018   Prob (F-statistic):           2.11e-10\n",
      "Time:                                   12:32:46   Log-Likelihood:                -227.58\n",
      "No. Observations:                             50   AIC:                             489.2\n",
      "Df Residuals:                                 33   BIC:                             521.7\n",
      "Df Model:                                     17                                         \n",
      "Covariance Type:                       nonrobust                                         \n",
      "=======================================================================================================\n",
      "                                          coef    std err          t      P>|t|      [0.025      0.975]\n",
      "-------------------------------------------------------------------------------------------------------\n",
      "Population Estimate                 -4.717e-06   8.66e-07     -5.448      0.000   -6.48e-06   -2.96e-06\n",
      "Days with AQI                         417.9800    149.828      2.790      0.009     113.153     722.807\n",
      "Good Days                            -472.5262    175.484     -2.693      0.011    -829.552    -115.501\n",
      "Moderate Days                        -472.6786    175.439     -2.694      0.011    -829.611    -115.746\n",
      "Unhealthy for Sensitive Groups Days  -467.3804    175.338     -2.666      0.012    -824.108    -110.652\n",
      "Unhealthy Days                       -120.6360     38.940     -3.098      0.004    -199.860     -41.412\n",
      "Very Unhealthy Days                  -163.7545     64.739     -2.529      0.016    -295.466     -32.043\n",
      "Hazardous Days                        -68.3022     75.546     -0.904      0.372    -222.002      85.397\n",
      "Max AQI                                -0.2569      0.304     -0.844      0.405      -0.876       0.362\n",
      "90th Percentile AQI                    -0.7698      1.626     -0.474      0.639      -4.077       2.537\n",
      "Median AQI                             -3.2135      2.039     -1.576      0.125      -7.361       0.934\n",
      "Days CO                               143.2607     31.683      4.522      0.000      78.802     207.719\n",
      "Days NO2                               53.9743     26.310      2.051      0.048       0.447     107.502\n",
      "Days Ozone                             55.2252     26.094      2.116      0.042       2.137     108.313\n",
      "Days SO2                               55.0623     26.161      2.105      0.043       1.837     108.287\n",
      "Days PM2.5                             55.5488     26.142      2.125      0.041       2.362     108.736\n",
      "Days PM10                              54.9087     26.106      2.103      0.043       1.796     108.022\n",
      "Unhealthy or Worse Days              -352.6927    138.451     -2.547      0.016    -634.374     -71.011\n",
      "PoliticalNumber                        -9.9078      5.190     -1.909      0.065     -20.466       0.651\n",
      "==============================================================================\n",
      "Omnibus:                        0.258   Durbin-Watson:                   2.483\n",
      "Prob(Omnibus):                  0.879   Jarque-Bera (JB):                0.372\n",
      "Skew:                           0.154   Prob(JB):                        0.830\n",
      "Kurtosis:                       2.712   Cond. No.                     2.61e+22\n",
      "==============================================================================\n",
      "\n",
      "Warnings:\n",
      "[1] Standard Errors assume that the covariance matrix of the errors is correctly specified.\n",
      "[2] The smallest eigenvalue is 6.98e-30. This might indicate that there are\n",
      "strong multicollinearity problems or that the design matrix is singular.\n"
     ]
    }
   ],
   "source": [
    "x = avgData.loc[:,avgData.columns!='Days PM2.5 per million people']\n",
    "x = x.loc[:, x.columns !='Median AQI per million people']\n",
    "x = x.loc[:, x.columns !='Political Allignment']\n",
    "y = avgData['Days PM2.5 per million people']\n",
    "model = sm.OLS(y, x.astype(float)).fit()\n",
    "\n",
    "print(model.summary())"
   ]
  },
  {
   "cell_type": "markdown",
   "metadata": {},
   "source": [
    "While we can see that the p value for political number is pretty low, it is still not statstically significant since the p value is still over 0.05."
   ]
  },
  {
   "cell_type": "code",
   "execution_count": 39,
   "metadata": {},
   "outputs": [
    {
     "name": "stdout",
     "output_type": "stream",
     "text": [
      "                                  OLS Regression Results                                 \n",
      "=========================================================================================\n",
      "Dep. Variable:     Median AQI per million people   R-squared:                       0.845\n",
      "Model:                                       OLS   Adj. R-squared:                  0.765\n",
      "Method:                            Least Squares   F-statistic:                     10.55\n",
      "Date:                           Sat, 22 Sep 2018   Prob (F-statistic):           7.21e-09\n",
      "Time:                                   12:32:46   Log-Likelihood:                -174.14\n",
      "No. Observations:                             50   AIC:                             382.3\n",
      "Df Residuals:                                 33   BIC:                             414.8\n",
      "Df Model:                                     17                                         \n",
      "Covariance Type:                       nonrobust                                         \n",
      "=======================================================================================================\n",
      "                                          coef    std err          t      P>|t|      [0.025      0.975]\n",
      "-------------------------------------------------------------------------------------------------------\n",
      "Population Estimate                 -1.469e-06   2.97e-07     -4.941      0.000   -2.07e-06   -8.64e-07\n",
      "Days with AQI                         116.5681     51.456      2.265      0.030      11.881     221.255\n",
      "Good Days                            -132.7273     60.267     -2.202      0.035    -255.341     -10.113\n",
      "Moderate Days                        -132.5750     60.251     -2.200      0.035    -255.157      -9.993\n",
      "Unhealthy for Sensitive Groups Days  -133.5299     60.217     -2.217      0.034    -256.042     -11.018\n",
      "Unhealthy Days                        -26.8549     13.373     -2.008      0.053     -54.063       0.353\n",
      "Very Unhealthy Days                   -45.4404     22.233     -2.044      0.049     -90.674      -0.206\n",
      "Hazardous Days                        -31.6016     25.945     -1.218      0.232     -84.387      21.184\n",
      "Max AQI                                 0.1783      0.105      1.706      0.097      -0.034       0.391\n",
      "90th Percentile AQI                    -0.4584      0.558     -0.821      0.417      -1.594       0.677\n",
      "Median AQI                             -0.6781      0.700     -0.968      0.340      -2.103       0.746\n",
      "Days CO                                35.6095     10.881      3.273      0.003      13.472      57.747\n",
      "Days NO2                               15.9009      9.036      1.760      0.088      -2.482      34.284\n",
      "Days Ozone                             16.3371      8.961      1.823      0.077      -1.895      34.569\n",
      "Days SO2                               16.2606      8.985      1.810      0.079      -2.018      34.540\n",
      "Days PM2.5                             16.2517      8.978      1.810      0.079      -2.014      34.518\n",
      "Days PM10                              16.2082      8.966      1.808      0.080      -2.032      34.449\n",
      "Unhealthy or Worse Days              -103.8970     47.549     -2.185      0.036    -200.635      -7.159\n",
      "PoliticalNumber                        -3.0737      1.782     -1.725      0.094      -6.700       0.552\n",
      "==============================================================================\n",
      "Omnibus:                        8.020   Durbin-Watson:                   2.283\n",
      "Prob(Omnibus):                  0.018   Jarque-Bera (JB):                7.066\n",
      "Skew:                           0.829   Prob(JB):                       0.0292\n",
      "Kurtosis:                       3.803   Cond. No.                     2.61e+22\n",
      "==============================================================================\n",
      "\n",
      "Warnings:\n",
      "[1] Standard Errors assume that the covariance matrix of the errors is correctly specified.\n",
      "[2] The smallest eigenvalue is 6.98e-30. This might indicate that there are\n",
      "strong multicollinearity problems or that the design matrix is singular.\n"
     ]
    }
   ],
   "source": [
    "\n",
    "y = avgData['Median AQI per million people']\n",
    "model = sm.OLS(y, x.astype(float)).fit()\n",
    "\n",
    "print(model.summary())"
   ]
  },
  {
   "cell_type": "markdown",
   "metadata": {},
   "source": [
    "Similar to what we had previously: while the p value for political number is pretty low, it is still not statstically significant."
   ]
  },
  {
   "cell_type": "markdown",
   "metadata": {},
   "source": [
    "## Conclusion"
   ]
  },
  {
   "cell_type": "markdown",
   "metadata": {},
   "source": [
    "Despite having some correlation in political allignment to Days PM2.5 per million people, the political party allignment is not statstically significant in determining Days PM2.5 per million people. The same can be said for political party allignment to median AQI per million people."
   ]
  }
 ],
 "metadata": {
  "kernelspec": {
   "display_name": "Python 3",
   "language": "python",
   "name": "python3"
  },
  "language_info": {
   "codemirror_mode": {
    "name": "ipython",
    "version": 3
   },
   "file_extension": ".py",
   "mimetype": "text/x-python",
   "name": "python",
   "nbconvert_exporter": "python",
   "pygments_lexer": "ipython3",
   "version": "3.6.2"
  }
 },
 "nbformat": 4,
 "nbformat_minor": 2
}
